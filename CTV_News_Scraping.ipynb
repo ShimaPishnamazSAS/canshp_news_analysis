{
 "cells": [
  {
   "cell_type": "markdown",
   "metadata": {},
   "source": [
    "# News Scraping: National Post"
   ]
  },
  {
   "cell_type": "code",
   "execution_count": 1,
   "metadata": {},
   "outputs": [],
   "source": [
    "import requests\n",
    "from bs4 import BeautifulSoup\n",
    "import numpy as np\n",
    "import pandas as pd\n",
    "from requests import get "
   ]
  },
  {
   "cell_type": "code",
   "execution_count": 2,
   "metadata": {},
   "outputs": [],
   "source": [
    "# url definition\n",
    "url = \"https://www.ctvnews.ca/\""
   ]
  },
  {
   "cell_type": "code",
   "execution_count": 3,
   "metadata": {},
   "outputs": [],
   "source": [
    "response = get(url)"
   ]
  },
  {
   "cell_type": "code",
   "execution_count": 4,
   "metadata": {},
   "outputs": [
    {
     "data": {
      "text/plain": [
       "bs4.BeautifulSoup"
      ]
     },
     "execution_count": 4,
     "metadata": {},
     "output_type": "execute_result"
    }
   ],
   "source": [
    "html_soup = BeautifulSoup(response.text, 'html.parser')\n",
    "type(html_soup)"
   ]
  },
  {
   "cell_type": "code",
   "execution_count": 30,
   "metadata": {},
   "outputs": [
    {
     "name": "stdout",
     "output_type": "stream",
     "text": [
      "<class 'bs4.element.ResultSet'>\n",
      "74\n"
     ]
    }
   ],
   "source": [
    "coverpage_news = html_soup.find_all('h2', class_ = \"teaserTitle\")\n",
    "\n",
    "print(type(coverpage_news))\n",
    "print(len(coverpage_news))\n",
    "# print(coverpage_news)"
   ]
  },
  {
   "cell_type": "markdown",
   "metadata": {},
   "source": [
    "### Extract the Content from the Articles"
   ]
  },
  {
   "cell_type": "code",
   "execution_count": 25,
   "metadata": {},
   "outputs": [
    {
     "name": "stdout",
     "output_type": "stream",
     "text": [
      "<h2 class=\"teaserTitle\">\n",
      "<a href=\"https://www.ctvnews.ca/health/coronavirus/covid-19-curves-compare-canada-and-other-key-nations-1.4881500\">Compare Canada to other countries</a>\n",
      "</h2>\n",
      "https://www.ctvnews.ca/health/coronavirus/covid-19-curves-compare-canada-and-other-key-nations-1.4881500\n",
      "<h2 class=\"teaserTitle\">\n",
      "<a href=\"https://www.ctvnews.ca/health/coronavirus/tracking-every-case-of-covid-19-in-canada-1.4852102\">Coronavirus in Canada</a>\n",
      "</h2>\n",
      "https://www.ctvnews.ca/health/coronavirus/tracking-every-case-of-covid-19-in-canada-1.4852102\n"
     ]
    }
   ],
   "source": [
    "news_contents = []\n",
    "list_links = []\n",
    "list_titles = []\n",
    "\n",
    "# for n in np.arange(0, len(coverpage_news)):\n",
    "for n in (1,2):\n",
    "    # Getting the link of the article\n",
    "    link = coverpage_news[n].find('a')['href']\n",
    "#     link = \"http:/\" + link\n",
    "    list_links.append(link)  \n",
    "    print(coverpage_news[n])\n",
    "    print(link)\n",
    "    \n",
    "    # Getting the title\n",
    "    title = coverpage_news[n].find('a').get_text()\n",
    "    list_titles.append(title)\n",
    "    \n",
    "    # Reading the content (it is divided in paragraphs)\n",
    "    article = requests.get(link)\n",
    "    article_content = article.content\n",
    "    soup_article = BeautifulSoup(article_content, 'html.parser')\n",
    "    \n",
    "    body = soup_article.find_all('div', class_='articleBody election-col-11 election-col-s-12 election-col-m-12 election-col-l-10 election-col-xl-11 offset-right-col-l-1 offset-left-col-l-1 offset-left-col-xl-1 offset-left-col-1')\n",
    "    x = body[0].find_all('p')\n",
    "    # Unifying the paragraphs\n",
    "    list_paragraphs = []\n",
    "    for p in np.arange(0, len(x)):\n",
    "        paragraph = x[p].get_text()\n",
    "        list_paragraphs.append(paragraph)\n",
    "        final_article = \" \".join(list_paragraphs)\n",
    "    news_contents.append(final_article)\n",
    "    \n",
    "#     try:\n",
    "#         body = soup_article.find_all('div', class_='articleBody election-col-11 election-col-s-12 election-col-m-12 election-col-l-10 election-col-xl-11 offset-right-col-l-1 offset-left-col-l-1 offset-left-col-xl-1 offset-left-col-1')\n",
    "#         x = body[0].find_all('p')\n",
    "#     except:\n",
    "#         body = soup_article.find_all('div', class_='story-text')\n",
    "#         x = body[0].find_all('p')\n",
    "    \n",
    "#     # Unifying the paragraphs\n",
    "#     list_paragraphs = []\n",
    "#     for p in np.arange(0, len(x)):\n",
    "#         paragraph = x[p].get_text()\n",
    "#         list_paragraphs.append(paragraph)\n",
    "#         final_article = \" \".join(list_paragraphs)\n",
    "        \n",
    "#     news_contents.append(final_article)"
   ]
  },
  {
   "cell_type": "code",
   "execution_count": 27,
   "metadata": {},
   "outputs": [],
   "source": [
    "# news_contents"
   ]
  },
  {
   "cell_type": "code",
   "execution_count": 28,
   "metadata": {},
   "outputs": [],
   "source": [
    "# df_features\n",
    "df_features = pd.DataFrame(\n",
    "     {'Article Content': news_contents \n",
    "    })\n",
    "\n",
    "# df_show_info\n",
    "df_show_info = pd.DataFrame(\n",
    "    {'Article Title': list_titles,\n",
    "     'Article Link': list_links})"
   ]
  },
  {
   "cell_type": "code",
   "execution_count": 89,
   "metadata": {},
   "outputs": [
    {
     "data": {
      "text/html": [
       "<div>\n",
       "<style scoped>\n",
       "    .dataframe tbody tr th:only-of-type {\n",
       "        vertical-align: middle;\n",
       "    }\n",
       "\n",
       "    .dataframe tbody tr th {\n",
       "        vertical-align: top;\n",
       "    }\n",
       "\n",
       "    .dataframe thead th {\n",
       "        text-align: right;\n",
       "    }\n",
       "</style>\n",
       "<table border=\"1\" class=\"dataframe\">\n",
       "  <thead>\n",
       "    <tr style=\"text-align: right;\">\n",
       "      <th></th>\n",
       "      <th>Article Content</th>\n",
       "    </tr>\n",
       "  </thead>\n",
       "  <tbody>\n",
       "    <tr>\n",
       "      <td>0</td>\n",
       "      <td>TORONTO -- \\n\\tOntario is pausing any further ...</td>\n",
       "    </tr>\n",
       "    <tr>\n",
       "      <td>1</td>\n",
       "      <td>\\nOntario (185) - The province reported 185 ne...</td>\n",
       "    </tr>\n",
       "  </tbody>\n",
       "</table>\n",
       "</div>"
      ],
      "text/plain": [
       "                                     Article Content\n",
       "0  TORONTO -- \\n\\tOntario is pausing any further ...\n",
       "1  \\nOntario (185) - The province reported 185 ne..."
      ]
     },
     "execution_count": 89,
     "metadata": {},
     "output_type": "execute_result"
    }
   ],
   "source": [
    "df_features"
   ]
  },
  {
   "cell_type": "code",
   "execution_count": 90,
   "metadata": {},
   "outputs": [
    {
     "data": {
      "text/html": [
       "<div>\n",
       "<style scoped>\n",
       "    .dataframe tbody tr th:only-of-type {\n",
       "        vertical-align: middle;\n",
       "    }\n",
       "\n",
       "    .dataframe tbody tr th {\n",
       "        vertical-align: top;\n",
       "    }\n",
       "\n",
       "    .dataframe thead th {\n",
       "        text-align: right;\n",
       "    }\n",
       "</style>\n",
       "<table border=\"1\" class=\"dataframe\">\n",
       "  <thead>\n",
       "    <tr style=\"text-align: right;\">\n",
       "      <th></th>\n",
       "      <th>Article Title</th>\n",
       "      <th>Article Link</th>\n",
       "    </tr>\n",
       "  </thead>\n",
       "  <tbody>\n",
       "    <tr>\n",
       "      <td>0</td>\n",
       "      <td>Ontario forced to pause reopening plan for fou...</td>\n",
       "      <td>https://toronto.ctvnews.ca/ontario-forced-to-p...</td>\n",
       "    </tr>\n",
       "    <tr>\n",
       "      <td>1</td>\n",
       "      <td>Coronavirus in Canada</td>\n",
       "      <td>https://www.ctvnews.ca/health/coronavirus/trac...</td>\n",
       "    </tr>\n",
       "  </tbody>\n",
       "</table>\n",
       "</div>"
      ],
      "text/plain": [
       "                                       Article Title  \\\n",
       "0  Ontario forced to pause reopening plan for fou...   \n",
       "1                              Coronavirus in Canada   \n",
       "\n",
       "                                        Article Link  \n",
       "0  https://toronto.ctvnews.ca/ontario-forced-to-p...  \n",
       "1  https://www.ctvnews.ca/health/coronavirus/trac...  "
      ]
     },
     "execution_count": 90,
     "metadata": {},
     "output_type": "execute_result"
    }
   ],
   "source": [
    "df_show_info"
   ]
  },
  {
   "cell_type": "code",
   "execution_count": 29,
   "metadata": {},
   "outputs": [],
   "source": [
    "df_features.to_csv(\"canshp_news_content.csv\")\n",
    "df_show_info.to_csv(\"canshp_news_title_and_link.csv\")"
   ]
  }
 ],
 "metadata": {
  "kernelspec": {
   "display_name": "Python 3",
   "language": "python",
   "name": "python3"
  },
  "language_info": {
   "codemirror_mode": {
    "name": "ipython",
    "version": 3
   },
   "file_extension": ".py",
   "mimetype": "text/x-python",
   "name": "python",
   "nbconvert_exporter": "python",
   "pygments_lexer": "ipython3",
   "version": "3.7.4"
  }
 },
 "nbformat": 4,
 "nbformat_minor": 2
}
